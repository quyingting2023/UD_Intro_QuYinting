{
 "cells": [
  {
   "cell_type": "markdown",
   "metadata": {},
   "source": [
    "# Exercise 00\n",
    "Write a piece of code that allocates a list of 20 integers and initializes each element by its index multiplied by 5. Print the result."
   ]
  },
  {
   "cell_type": "code",
   "execution_count": 1,
   "metadata": {},
   "outputs": [
    {
     "name": "stdout",
     "output_type": "stream",
     "text": [
      "[0, 5, 10, 15, 20, 25, 30, 35, 40, 45, 50, 55, 60, 65, 70, 75, 80, 85, 90, 95]\n"
     ]
    }
   ],
   "source": [
    "# Create an empty list to store the integers\n",
    "integers_list = []\n",
    "\n",
    "# Use a for loop to initialize the elements\n",
    "for i in range(20):\n",
    "    value = i * 5\n",
    "    integers_list.append(value)\n",
    "\n",
    "# Print the resulting list\n",
    "print(integers_list)\n"
   ]
  },
  {
   "cell_type": "markdown",
   "metadata": {},
   "source": [
    "# Exercise 01\n",
    "Define a function that takes an integer as input, prints  all integers that it is divisable by, and returns the largest one."
   ]
  },
  {
   "cell_type": "code",
   "execution_count": 2,
   "metadata": {},
   "outputs": [
    {
     "name": "stdout",
     "output_type": "stream",
     "text": [
      "Enter an integer: 2\n",
      "1\n",
      "2\n",
      "The largest number divisible by 2 is 2\n"
     ]
    }
   ],
   "source": [
    "def find_divisible_and_return_largest(n):\n",
    "    # Initialize a variable to store the largest divisible number\n",
    "    largest_divisible = 1\n",
    "\n",
    "    # Loop from 1 to n (inclusive)\n",
    "    for i in range(1, n + 1):\n",
    "        if n % i == 0:\n",
    "            # If n is divisible by i, print it\n",
    "            print(i)\n",
    "\n",
    "            # Update the largest_divisible if i is greater than the current value\n",
    "            if i > largest_divisible:\n",
    "                largest_divisible = i\n",
    "\n",
    "    # Return the largest divisible number found\n",
    "    return largest_divisible\n",
    "\n",
    "# Input an integer\n",
    "num = int(input(\"Enter an integer: \"))\n",
    "\n",
    "# Call the function and print the result\n",
    "largest = find_divisible_and_return_largest(num)\n",
    "print(\"The largest number divisible by\", num, \"is\", largest)\n"
   ]
  },
  {
   "cell_type": "markdown",
   "metadata": {},
   "source": [
    "# Exercise 02\n",
    "- create a dictionary with 6 keys and values of your choice\n",
    "- write a function that takes a dictionary and a value as input and returns whether the value occurs as a key in the dictionary\n",
    "- write a function that takes a dictionary as input, and returns the dictionary but the keys are swapped with their values (resolve the issue if a value occurs twice!)"
   ]
  },
  {
   "cell_type": "code",
   "execution_count": null,
   "metadata": {},
   "outputs": [],
   "source": [
    "my_dictionary = {\n",
    "    \"apple\": \"fruit\",\n",
    "    \"carrot\": \"vegetable\",\n",
    "    \"cat\": \"animal\",\n",
    "    \"desk\": \"furniture\",\n",
    "    \"book\": \"object\",\n",
    "    \"sun\": \"celestial body\"\n",
    "}\n"
   ]
  },
  {
   "cell_type": "code",
   "execution_count": null,
   "metadata": {},
   "outputs": [],
   "source": [
    "def value_occurs_as_key(my_dict, value):\n",
    "    return value in my_dict.keys()\n",
    "\n",
    "# Example usage:\n",
    "value_to_check = \"fruit\"\n",
    "result = value_occurs_as_key(my_dictionary, value_to_check)\n",
    "print(f\"Does '{value_to_check}' occur as a key? {result}\")\n"
   ]
  },
  {
   "cell_type": "code",
   "execution_count": null,
   "metadata": {},
   "outputs": [],
   "source": [
    "def swap_keys_and_values(my_dict):\n",
    "    swapped_dict = {}\n",
    "    for key, value in my_dict.items():\n",
    "        if value in swapped_dict:\n",
    "            # Handle the case where a value occurs twice\n",
    "            if isinstance(swapped_dict[value], list):\n",
    "                swapped_dict[value].append(key)\n",
    "            else:\n",
    "                swapped_dict[value] = [swapped_dict[value], key]\n",
    "        else:\n",
    "            swapped_dict[value] = key\n",
    "    return swapped_dict\n",
    "\n",
    "# Example usage:\n",
    "swapped_result = swap_keys_and_values(my_dictionary)\n",
    "print(\"Dictionary with keys and values swapped:\")\n",
    "print(swapped_result)\n"
   ]
  },
  {
   "cell_type": "markdown",
   "metadata": {},
   "source": [
    "# Exercise 03\n",
    "Define a function that creates a dictionary of the first n fibonacci numbers as values paired with their indices as keys. "
   ]
  },
  {
   "cell_type": "code",
   "execution_count": 7,
   "metadata": {},
   "outputs": [
    {
     "name": "stdout",
     "output_type": "stream",
     "text": [
      "Fibonacci dictionary for the first 10 Fibonacci numbers:\n",
      "{0: 0, 1: 1, 2: 1, 3: 2, 4: 3, 5: 5, 6: 8, 7: 13, 8: 21, 9: 34}\n"
     ]
    }
   ],
   "source": [
    "def generate_fibonacci_dict(n):\n",
    "    fibonacci_dict = {}\n",
    "    \n",
    "    a, b = 0, 1  # Initialize the first two Fibonacci numbers\n",
    "    \n",
    "    for i in range(n):\n",
    "        fibonacci_dict[i] = a  # Store the Fibonacci number 'a' with index 'i'\n",
    "        a, b = b, a + b       # Update 'a' and 'b' for the next Fibonacci number\n",
    "    \n",
    "    return fibonacci_dict\n",
    "\n",
    "# Example usage:\n",
    "n = 10  # You can change 'n' to the desired number of Fibonacci numbers\n",
    "fib_dict = generate_fibonacci_dict(n)\n",
    "print(f\"Fibonacci dictionary for the first {n} Fibonacci numbers:\")\n",
    "print(fib_dict)\n"
   ]
  }
 ],
 "metadata": {
  "kernelspec": {
   "display_name": "Python 3",
   "language": "python",
   "name": "python3"
  },
  "language_info": {
   "codemirror_mode": {
    "name": "ipython",
    "version": 3
   },
   "file_extension": ".py",
   "mimetype": "text/x-python",
   "name": "python",
   "nbconvert_exporter": "python",
   "pygments_lexer": "ipython3",
   "version": "3.6.5"
  }
 },
 "nbformat": 4,
 "nbformat_minor": 5
}
